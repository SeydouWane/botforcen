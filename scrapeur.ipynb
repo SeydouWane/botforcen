{
 "cells": [
  {
   "cell_type": "code",
   "execution_count": 1,
   "metadata": {},
   "outputs": [],
   "source": [
    "import re, time, csv, requests, pandas as pd\n",
    "from bs4 import BeautifulSoup\n",
    "from urllib.parse import urljoin\n",
    "from tqdm import tqdm\n"
   ]
  },
  {
   "cell_type": "code",
   "execution_count": 2,
   "id": "e87644fb",
   "metadata": {},
   "outputs": [],
   "source": [
    "BASE_URL  = \"https://force-n.sn\"\n",
    "HEADERS   = {\"User-Agent\": \"Mozilla/5.0\"}\n",
    "DELAY_SEC = 1                              "
   ]
  },
  {
   "cell_type": "code",
   "execution_count": 3,
   "id": "ddf6e876",
   "metadata": {},
   "outputs": [],
   "source": [
    "def get_soup(url: str) -> BeautifulSoup:\n",
    "    res = requests.get(url, headers=HEADERS, timeout=15)\n",
    "    res.raise_for_status()\n",
    "    return BeautifulSoup(res.content, \"html.parser\")\n"
   ]
  },
  {
   "cell_type": "code",
   "execution_count": 4,
   "id": "6722ab33",
   "metadata": {},
   "outputs": [],
   "source": [
    "def discover_menu_links() -> dict:\n",
    "    \"\"\"Récupère automatiquement les entrées du menu principal.\"\"\"\n",
    "    soup = get_soup(BASE_URL)\n",
    "    links = {}\n",
    "    nav = soup.find(\"nav\", id=re.compile(\"forcen-main-menu\"))\n",
    "    for a in nav.find_all(\"a\", href=True):\n",
    "        label = a.get_text(strip=True) or a[\"href\"]\n",
    "        href  = urljoin(BASE_URL, a[\"href\"])\n",
    "        if href.startswith(BASE_URL):\n",
    "            links[label] = href\n",
    "    return links\n"
   ]
  },
  {
   "cell_type": "code",
   "execution_count": 5,
   "id": "600afd9e",
   "metadata": {},
   "outputs": [],
   "source": [
    "def scrape_page(url: str) -> dict:\n",
    "    \"\"\"Renvoie un dict {url, titres_concats, contenu} pour une page donnée.\"\"\"\n",
    "    soup = get_soup(url)\n",
    "    titres   = [h.get_text(strip=True) for h in soup.find_all([\"h1\", \"h2\", \"h3\"])]\n",
    "    paragraphes = [\n",
    "        p.get_text(strip=True)\n",
    "        for p in soup.find_all(\"p\")\n",
    "        if len(p.get_text(strip=True)) > 30\n",
    "    ]\n",
    "    return {\n",
    "        \"url\": url,\n",
    "        \"titres\": \" | \".join(titres),\n",
    "        \"contenu\": \"\\n\".join(paragraphes)\n",
    "    }"
   ]
  },
  {
   "cell_type": "code",
   "execution_count": 6,
   "metadata": {},
   "outputs": [
    {
     "name": "stdout",
     "output_type": "stream",
     "text": [
      " Pages détectées : ['A propos', 'Formations', 'SIGUI', 'Parcours initiatique', 'Entrepreneuriat', 'Services', 'Communauté', 'Promotion des sciences', 'Actualités']\n"
     ]
    },
    {
     "name": "stderr",
     "output_type": "stream",
     "text": [
      "Scraping: 100%|██████████| 9/9 [00:12<00:00,  1.39s/it]"
     ]
    },
    {
     "name": "stdout",
     "output_type": "stream",
     "text": [
      " Fichier généré : connaissances_force-n.csv (9 pages)\n"
     ]
    },
    {
     "name": "stderr",
     "output_type": "stream",
     "text": [
      "\n"
     ]
    }
   ],
   "source": [
    "\n",
    "def main():\n",
    "    menu_links = discover_menu_links()\n",
    "    print(\" Pages détectées :\", list(menu_links.keys()))\n",
    "\n",
    "    rows = []\n",
    "    for titre, url in tqdm(menu_links.items(), desc=\"Scraping\"):\n",
    "        try:\n",
    "            info = scrape_page(url)\n",
    "            info[\"page\"] = titre            \n",
    "            rows.append(info)\n",
    "            time.sleep(DELAY_SEC)\n",
    "        except Exception as e:\n",
    "            print(f\" Échec {url} → {e}\")\n",
    "\n",
    "    out_file = \"connaissances_force-n.csv\"\n",
    "    pd.DataFrame(rows).to_csv(out_file, index=False, quoting=csv.QUOTE_ALL)\n",
    "    print(f\" Fichier généré : {out_file} ({len(rows)} pages)\")\n",
    "\n",
    "if __name__ == \"__main__\":\n",
    "    main()\n"
   ]
  }
 ],
 "metadata": {
  "kernelspec": {
   "display_name": "Python 3",
   "language": "python",
   "name": "python3"
  },
  "language_info": {
   "codemirror_mode": {
    "name": "ipython",
    "version": 3
   },
   "file_extension": ".py",
   "mimetype": "text/x-python",
   "name": "python",
   "nbconvert_exporter": "python",
   "pygments_lexer": "ipython3",
   "version": "3.10.11"
  }
 },
 "nbformat": 4,
 "nbformat_minor": 5
}
